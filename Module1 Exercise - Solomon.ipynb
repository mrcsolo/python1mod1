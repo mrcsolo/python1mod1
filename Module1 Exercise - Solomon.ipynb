{
 "cells": [
  {
   "cell_type": "markdown",
   "metadata": {},
   "source": [
    "## Questions"
   ]
  },
  {
   "cell_type": "markdown",
   "metadata": {},
   "source": [
    "1. What is a hardware? (5 pts)"
   ]
  },
  {
   "cell_type": "raw",
   "metadata": {},
   "source": [
    "Hardware are the physical aspects of a computer. Things you can touch and hold (Monitor, GPU, CPU)."
   ]
  },
  {
   "cell_type": "markdown",
   "metadata": {},
   "source": [
    "2. What is a software? (5 pts)"
   ]
  },
  {
   "cell_type": "raw",
   "metadata": {},
   "source": [
    "Software are the programs and data that gives the computers instructions to do specific tasks."
   ]
  },
  {
   "cell_type": "markdown",
   "metadata": {},
   "source": [
    "3. Decode this secret message (10 pts):\n",
    "01001100 01101111 01100111 01101001 01100011"
   ]
  },
  {
   "cell_type": "raw",
   "metadata": {},
   "source": [
    "Logic"
   ]
  },
  {
   "cell_type": "markdown",
   "metadata": {},
   "source": [
    "4. You need to write a program to compute total sales amount when sales tax is 5%. First, identify IPO (input, process, output) for this program. (10 pts)"
   ]
  },
  {
   "cell_type": "raw",
   "metadata": {},
   "source": [
    "INPUT: Final Cost \n",
    "    \n",
    "PROCESS: (Final Cost * 0.05 ['sales tax']) + Final Cost\n",
    "    \n",
    "OUTPUT: Total sales amount (after tax)\n",
    "    "
   ]
  },
  {
   "cell_type": "markdown",
   "metadata": {},
   "source": [
    "5. Identify IPO for computing a worker's pay. Hint: What information/data do you need? (10 pts) "
   ]
  },
  {
   "cell_type": "raw",
   "metadata": {},
   "source": [
    "This depends on a various amount of factors, but I'm guessing it is out of simplicity due to this being a course question\n",
    "\n",
    "INPUT: Hours worked, Current Hourly Wage, Tax & Deductions\n",
    "    \n",
    "PROCESS: Gross Pay = (Hours worked * Current Hourly Wage) \n",
    "         Gross Pay - Tax & Deductions\n",
    "    \n",
    "OUTPUT: Net Pay\n",
    "    "
   ]
  },
  {
   "cell_type": "markdown",
   "metadata": {},
   "source": [
    "### Write the pseudocode for the following problems. \n",
    "\n",
    "#### Define the problem by constructing an IPO diagram showing input, output, and processing steps\n",
    "Ask yourself\n",
    "- What control structures (sequence, selection and repetition) are required?\n",
    "- What variables are required?\n",
    "\n",
    "Show a check of your solution with **test data** for at least **two valid test cases**\n",
    "If you use the numbers provided in the example then the correct pseudocode will calculate the same result."
   ]
  },
  {
   "cell_type": "markdown",
   "metadata": {},
   "source": [
    "#### 6. Daily Process (30 pts)\n",
    "Every day, a researcher receives 15 measurements. He needs a program written that will accept each measurement and convert it to its metric equivalent (from inches to millimeters). The result shall display on the monitor. After all 15 measurements are entered, the words \"All measurements processed\" shall be displayed on the screen."
   ]
  },
  {
   "cell_type": "raw",
   "metadata": {},
   "source": [
    "BEGIN\n",
    "SET COUNTER TO 15\n",
    "SET TOTAL TO 0\n",
    "LOOP COUNTER <=15\n",
    "    PROMPT USER FOR A NUMBER\n",
    "    GET NUMBER\n",
    "    RESULT = (NUMBER * 25.4 (inches to millimeters))\n",
    "    PRINT RESULT\n",
    "    ADD 1 TO COUNTER\n",
    "END LOOP\n",
    "\n",
    "PRINT ('All measurements processed')\n",
    "\n",
    "END"
   ]
  },
  {
   "cell_type": "markdown",
   "metadata": {},
   "source": [
    "Below is a code. \n",
    "This is the data test"
   ]
  },
  {
   "cell_type": "code",
   "execution_count": 33,
   "metadata": {
    "collapsed": true,
    "jupyter": {
     "outputs_hidden": true
    },
    "scrolled": true
   },
   "outputs": [
    {
     "name": "stdin",
     "output_type": "stream",
     "text": [
      "Enter measurement:  2\n"
     ]
    },
    {
     "name": "stdout",
     "output_type": "stream",
     "text": [
      "50.8 millimeters\n"
     ]
    },
    {
     "name": "stdin",
     "output_type": "stream",
     "text": [
      "Enter measurement:  5\n"
     ]
    },
    {
     "name": "stdout",
     "output_type": "stream",
     "text": [
      "127.0 millimeters\n"
     ]
    },
    {
     "name": "stdin",
     "output_type": "stream",
     "text": [
      "Enter measurement:  1\n"
     ]
    },
    {
     "name": "stdout",
     "output_type": "stream",
     "text": [
      "25.4 millimeters\n"
     ]
    },
    {
     "name": "stdin",
     "output_type": "stream",
     "text": [
      "Enter measurement:  4\n"
     ]
    },
    {
     "name": "stdout",
     "output_type": "stream",
     "text": [
      "101.6 millimeters\n"
     ]
    },
    {
     "name": "stdin",
     "output_type": "stream",
     "text": [
      "Enter measurement:  5\n"
     ]
    },
    {
     "name": "stdout",
     "output_type": "stream",
     "text": [
      "127.0 millimeters\n"
     ]
    },
    {
     "name": "stdin",
     "output_type": "stream",
     "text": [
      "Enter measurement:  8\n"
     ]
    },
    {
     "name": "stdout",
     "output_type": "stream",
     "text": [
      "203.2 millimeters\n"
     ]
    },
    {
     "name": "stdin",
     "output_type": "stream",
     "text": [
      "Enter measurement:  4\n"
     ]
    },
    {
     "name": "stdout",
     "output_type": "stream",
     "text": [
      "101.6 millimeters\n"
     ]
    },
    {
     "name": "stdin",
     "output_type": "stream",
     "text": [
      "Enter measurement:  2\n"
     ]
    },
    {
     "name": "stdout",
     "output_type": "stream",
     "text": [
      "50.8 millimeters\n"
     ]
    },
    {
     "name": "stdin",
     "output_type": "stream",
     "text": [
      "Enter measurement:  5\n"
     ]
    },
    {
     "name": "stdout",
     "output_type": "stream",
     "text": [
      "127.0 millimeters\n"
     ]
    },
    {
     "name": "stdin",
     "output_type": "stream",
     "text": [
      "Enter measurement:  1\n"
     ]
    },
    {
     "name": "stdout",
     "output_type": "stream",
     "text": [
      "25.4 millimeters\n"
     ]
    },
    {
     "name": "stdin",
     "output_type": "stream",
     "text": [
      "Enter measurement:  3\n"
     ]
    },
    {
     "name": "stdout",
     "output_type": "stream",
     "text": [
      "76.19999999999999 millimeters\n"
     ]
    },
    {
     "name": "stdin",
     "output_type": "stream",
     "text": [
      "Enter measurement:  5\n"
     ]
    },
    {
     "name": "stdout",
     "output_type": "stream",
     "text": [
      "127.0 millimeters\n"
     ]
    },
    {
     "name": "stdin",
     "output_type": "stream",
     "text": [
      "Enter measurement:  8\n"
     ]
    },
    {
     "name": "stdout",
     "output_type": "stream",
     "text": [
      "203.2 millimeters\n"
     ]
    },
    {
     "name": "stdin",
     "output_type": "stream",
     "text": [
      "Enter measurement:  9\n"
     ]
    },
    {
     "name": "stdout",
     "output_type": "stream",
     "text": [
      "228.6 millimeters\n"
     ]
    },
    {
     "name": "stdin",
     "output_type": "stream",
     "text": [
      "Enter measurement:  4\n"
     ]
    },
    {
     "name": "stdout",
     "output_type": "stream",
     "text": [
      "101.6 millimeters\n",
      "\n",
      "\n",
      "All measurements processed\n"
     ]
    }
   ],
   "source": [
    "counter = 15\n",
    "loopn = 1\n",
    "while loopn <= counter:\n",
    "    measurement = float(input(\"Enter measurement: \"))\n",
    "    result = (measurement * 25.4)\n",
    "    print(result, \"millimeters\")\n",
    "    loopn +=1\n",
    "else:\n",
    "    print(\"\\n\")\n",
    "    print(\"All measurements processed\")\n",
    "\n"
   ]
  },
  {
   "cell_type": "markdown",
   "metadata": {},
   "source": [
    "#### 7. Electricity Usage Report  (30 pts)\n",
    "An electricity supply authority records on an electricity usage file the amount of electricity that each customer uses.\n",
    "\n",
    "This file consists of:\n",
    "\n",
    "    1. a header record (first record), which provides the total kilowatt hours used during the month by all customers\n",
    "    2. a number of detail records, each containing the customer number, customer name and electricity usage (in kilowatt hours) for the month.\n",
    "    \n",
    "Design a solution algorithm that will read the electricity usage file and produce an electricity usage report showing the customer number, customer name, electricity usage and the amount owing. The amount owing is calculated at 11 cents for each kilowatt hour used, up to 200 hours, and 8 cents for each kilowatt hour used over 200 hours.\n",
    "\n",
    "The report should also display the total electricity usage in kilowatt hours."
   ]
  },
  {
   "cell_type": "raw",
   "metadata": {},
   "source": [
    "BEGIN\n",
    "GET HEADER RECORD FROM FILE\n",
    "GET DETAIL RECORDS FROM FILE\n",
    "\n",
    "GET SPECIFIC DETAIL RECORD BASED OFF OF CUSTNUM\n",
    "IF ELECTRICITYUSAGE <= 200\n",
    "    AMT_OWED = ELECTRICITYUSAGE * 0.11\n",
    "ELSE \n",
    "    SUB = ELECTRICITYUSAGE - 200\n",
    "    AMT_OWED = (SUB * 0.08) + 22\n",
    "\n",
    "PRINT (\"CUSTOMER ID: \", CUSTNUM)\n",
    "PRINT (\"CUSTOMER NAME: \", CUSTNAME)\n",
    "PRINT (\"MONTHLY ELECTRICITY USAGE: \", ELECTRICITYUSAGE)\n",
    "PRINT (\"AMOUNT OWED: \", AMT_OWED)\n",
    "\n",
    "END"
   ]
  },
  {
   "cell_type": "raw",
   "metadata": {},
   "source": [
    "I can't write this code out without the input so I will be doing 2 tests with random numbers\n",
    "\n",
    "ELECTRICITY USAGE = 280\n",
    "CUSTNUM = 100000\n",
    "CUSTNAME = JOHN DOE\n",
    "\n",
    "POST CALC\n",
    "\n",
    "CUSTOMER ID: 100000\n",
    "CUSTOMER NAME: JOHN DOE\n",
    "MONTHLY ELECTRICITY USAGE: 280\n",
    "AMOUNT OWED: 28.4"
   ]
  },
  {
   "cell_type": "raw",
   "metadata": {},
   "source": [
    "ELECTRICITY USAGE = 140\n",
    "CUSTNUM = 100001\n",
    "CUSTNAME = JANE DOE\n",
    "\n",
    "POST CALC\n",
    "\n",
    "CUSTOMER ID: 100001\n",
    "CUSTOMER NAME: JANE DOE\n",
    "MONTHLY ELECTRICITY USAGE: 180\n",
    "AMOUNT OWED: 19.8"
   ]
  }
 ],
 "metadata": {
  "kernelspec": {
   "display_name": "Python 3 (ipykernel)",
   "language": "python",
   "name": "python3"
  },
  "language_info": {
   "codemirror_mode": {
    "name": "ipython",
    "version": 3
   },
   "file_extension": ".py",
   "mimetype": "text/x-python",
   "name": "python",
   "nbconvert_exporter": "python",
   "pygments_lexer": "ipython3",
   "version": "3.12.4"
  },
  "panel-cell-order": [
   "5f980b0c",
   "2a1aef99",
   "3e717a59",
   "62d19a91",
   "82a71ffe",
   "d17833fa",
   "1ce55511",
   "9fc67831",
   "635b6af8",
   "a2464a3f",
   "07dab30b",
   "a770e8a0",
   "bc482e36",
   "b6865e76",
   "5f5187ae"
  ]
 },
 "nbformat": 4,
 "nbformat_minor": 4
}
